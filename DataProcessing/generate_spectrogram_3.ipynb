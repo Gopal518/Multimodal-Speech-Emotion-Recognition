{
 "cells": [
  {
   "cell_type": "code",
   "execution_count": 1,
   "metadata": {},
   "outputs": [],
   "source": [
    "import numpy as np\n",
    "import pandas as pd\n",
    "import os.path\n",
    "import librosa\n",
    "import IPython.display as ipd\n",
    "from shutil import copyfile\n",
    "import glob\n",
    "import matplotlib.style as ms\n",
    "import matplotlib.pyplot as plt\n",
    "from tqdm import tqdm\n",
    "import pickle\n",
    "import random\n",
    "import time\n",
    "\n",
    "import IPython.display\n",
    "import librosa.display\n",
    "import joblib\n",
    "from joblib import Parallel, delayed\n",
    "from PIL import Image\n",
    "import multiprocessing as mp\n",
    "\n",
    "import pandas as pd\n",
    "import math\n"
   ]
  },
  {
   "cell_type": "code",
   "execution_count": 1,
   "metadata": {},
   "outputs": [],
   "source": [
    "\n",
    "labels_df = pd.read_csv('Preprocessing/df_iemocap/df_iemocap.csv')\n",
    "iemocap_dir = 'IEMOCAP_full_release_withoutVideos/Iemocap_sentences/'\n",
    "save_dir = 'Preprocessing/AudioVectors/'\n",
    "audio_vectors_path= save_dir + 'audio_vectors_'\n",
    "\n",
    "emotion_dict = {'ang': 0,\n",
    "                'hap': 1,\n",
    "                'exc': 2,\n",
    "                'sad': 3,\n",
    "                'fru': 4,\n",
    "                'fea': 5,\n",
    "                'sur': 6,\n",
    "                'neu': 7,\n",
    "                'xxx': 8,\n",
    "                'oth': 8,\n",
    "                'dis': 8}\n",
    "\n",
    "emotion_full_dict = {'neu': 'neutral', 'ang': 'anger', 'hap': 'happiness', 'exc': 'excited', 'sad': 'sadness',\n",
    "                     'fru':'frustrated', 'fea': 'fear', 'sur': 'surprised', 'xxx': 'others', 'oth': 'others', 'dis': 'others'}\n"
   ]
  },
  {
   "cell_type": "code",
   "execution_count": null,
   "metadata": {},
   "outputs": [],
   "source": [
    "\n",
    "pickle_to_subset = pd.read_csv('Preprocessing/pickle_to_subset/pickle_to_subset_1.csv')\n",
    "\n",
    "pathAudio = iemocap_dir\n",
    "pathImage = 'IEMOCAP_full_release_withoutVideos/Iemocap_sentences/SpecAugment_spectrograms/'\n",
    "\n",
    "#pickle_to_subset = pickle_to_subset[]\n"
   ]
  },
  {
   "cell_type": "code",
   "execution_count": null,
   "metadata": {},
   "outputs": [],
   "source": [
    "sample_rate = 44100\n",
    "import time\n",
    "import multiprocessing as mp\n",
    "import ast\n",
    "for row in tqdm(pickle_to_subset.itertuples(index=True, name='Pandas')):\n",
    "    a = getattr(row, \"audio_vector\")\n",
    "    image_fname = getattr(row, \"filename\")\n",
    "    label = getattr(row, \"emotion\")\n",
    "    res = ast.literal_eval(a)\n",
    "    res = np.asarray(res)\n",
    "    res = res.astype('float32')\n",
    "    S = librosa.feature.melspectrogram(y = res, sr = sample_rate, n_mels=256,hop_length=128,fmax=8000)\n",
    "    S_2 = librosa.power_to_db(S, ref=np.max)\n",
    "    plt.figure(figsize=(12,4))\n",
    "    librosa.display.specshow(S_2, sr=sample_rate, x_axis='time', y_axis='mel')\n",
    "    #plt.title('mel power spectrogram')\n",
    "    #plt.colorbar(format='%+02.0f dB')\n",
    "    #plt.tight_layout()\n",
    "    fig1 = plt.gcf()\n",
    "    plt.axis('off')\n",
    "    save_path = pathImage + emotion_full_dict[label] + '/' + image_fname + '.jpg'\n",
    "    fig1.savefig(save_path, dpi=50)\n",
    "    plt.close(fig1)"
   ]
  }
 ],
 "metadata": {
  "kernelspec": {
   "display_name": "Python 3",
   "language": "python",
   "name": "python3"
  },
  "language_info": {
   "codemirror_mode": {
    "name": "ipython",
    "version": 3
   },
   "file_extension": ".py",
   "mimetype": "text/x-python",
   "name": "python",
   "nbconvert_exporter": "python",
   "pygments_lexer": "ipython3",
   "version": "3.6.6"
  }
 },
 "nbformat": 4,
 "nbformat_minor": 2
}
